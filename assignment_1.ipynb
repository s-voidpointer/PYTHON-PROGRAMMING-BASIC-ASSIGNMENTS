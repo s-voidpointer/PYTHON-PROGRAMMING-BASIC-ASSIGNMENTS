{
 "cells": [
  {
   "cell_type": "markdown",
   "metadata": {},
   "source": [
    "## 1. Write a Python program to print \"Hello Python\" ;?"
   ]
  },
  {
   "cell_type": "code",
   "execution_count": 2,
   "metadata": {},
   "outputs": [],
   "source": [
    "def python_print():\n",
    "    print(\"Hello Python\")"
   ]
  },
  {
   "cell_type": "code",
   "execution_count": 3,
   "metadata": {},
   "outputs": [
    {
     "name": "stdout",
     "output_type": "stream",
     "text": [
      "Hello Python\n"
     ]
    }
   ],
   "source": [
    "python_print()"
   ]
  },
  {
   "cell_type": "markdown",
   "metadata": {},
   "source": [
    "## 2. Write a Python program to do arithmetical operations addition and division.?"
   ]
  },
  {
   "cell_type": "code",
   "execution_count": 16,
   "metadata": {},
   "outputs": [],
   "source": [
    "class arithmetic:\n",
    "    \n",
    "    def addition(self):\n",
    "        try:\n",
    "            self.a = int(input(\"Enter 1st integer:\"))\n",
    "            self.b = int(input(\"Enter 2nd integer:\"))\n",
    "            \n",
    "        except:\n",
    "            print(\"Enter an valid integer.\")\n",
    "            \n",
    "        else:\n",
    "            print(\"a + b:\",self.a + self.b)\n",
    "            \n",
    "    def division(self):\n",
    "        try:\n",
    "            self.a = int(input(\"Enter 1st integer:\"))\n",
    "            self.b = int(input(\"Enter 2nd integer:\"))\n",
    "            \n",
    "        except:\n",
    "            print(\"Enter an valid integer.\")\n",
    "            \n",
    "        else:\n",
    "            print(\"a / b:\",self.a / self.b)\n",
    "            "
   ]
  },
  {
   "cell_type": "code",
   "execution_count": 17,
   "metadata": {},
   "outputs": [],
   "source": [
    "a = arithmetic()"
   ]
  },
  {
   "cell_type": "code",
   "execution_count": 18,
   "metadata": {},
   "outputs": [
    {
     "name": "stdout",
     "output_type": "stream",
     "text": [
      "Enter 1st integer:9\n",
      "Enter 2nd integer:3\n",
      "a / b: 3.0\n"
     ]
    }
   ],
   "source": [
    "a.division()"
   ]
  },
  {
   "cell_type": "markdown",
   "metadata": {},
   "source": [
    "## 3. Write a Python program to find the area of a triangle?"
   ]
  },
  {
   "cell_type": "code",
   "execution_count": 22,
   "metadata": {},
   "outputs": [],
   "source": [
    "class area:\n",
    "    \n",
    "    def area_of_triangle(self):\n",
    "        try:\n",
    "            self.base = int(input(\"Enter base of the triangle:\"))\n",
    "            self.height = int(input(\"Enter height of the triangle:\"))\n",
    "            \n",
    "        except:\n",
    "            print(\"Enter an valid integer.\")\n",
    "            \n",
    "        else:\n",
    "            area_ = 0.5 * self.base * self.height\n",
    "            print(\"Area of the triangle is:\",area_)"
   ]
  },
  {
   "cell_type": "code",
   "execution_count": 23,
   "metadata": {},
   "outputs": [],
   "source": [
    "ans = area()"
   ]
  },
  {
   "cell_type": "code",
   "execution_count": 24,
   "metadata": {},
   "outputs": [
    {
     "name": "stdout",
     "output_type": "stream",
     "text": [
      "Enter base of the triangle:9\n",
      "Enter height of the triangle:10\n",
      "Area of the triangle is: 45.0\n"
     ]
    }
   ],
   "source": [
    "ans.area_of_triangle()"
   ]
  },
  {
   "cell_type": "markdown",
   "metadata": {},
   "source": [
    "## 4. Write a Python program to swap two variables?"
   ]
  },
  {
   "cell_type": "code",
   "execution_count": 39,
   "metadata": {},
   "outputs": [],
   "source": [
    "class swapping:\n",
    "    \n",
    "    def swap_of_variable(self):\n",
    "        try:\n",
    "            self.a = input(\"Enter 1st variable:\")\n",
    "            self.b = input(\"Enter 2nd variable\")\n",
    "            \n",
    "        except Exception as e:\n",
    "                print(e)\n",
    "            \n",
    "        else:\n",
    "                print(f\"Before swapping   a = {self.a},   b = {self.b}\")\n",
    "                self.a,self.b = self.b,self.a\n",
    "                print(f\"After swapping    a = {self.a},   b = {self.b}\")"
   ]
  },
  {
   "cell_type": "code",
   "execution_count": 40,
   "metadata": {},
   "outputs": [],
   "source": [
    "swap = swapping()"
   ]
  },
  {
   "cell_type": "code",
   "execution_count": 41,
   "metadata": {},
   "outputs": [
    {
     "name": "stdout",
     "output_type": "stream",
     "text": [
      "Enter 1st variable:a\n",
      "Enter 2nd variableb\n",
      "Before swapping   a = a,   b = b\n",
      "After swapping    a = b,   b = a\n"
     ]
    }
   ],
   "source": [
    "swap.swap_of_variable()"
   ]
  },
  {
   "cell_type": "markdown",
   "metadata": {},
   "source": [
    "## 5. Write a Python program to generate a random number?"
   ]
  },
  {
   "cell_type": "code",
   "execution_count": 68,
   "metadata": {},
   "outputs": [],
   "source": [
    "import random\n",
    "class random_generator:\n",
    "    \n",
    "    def random_number(self):\n",
    "        print(random.random())"
   ]
  },
  {
   "cell_type": "code",
   "execution_count": 69,
   "metadata": {},
   "outputs": [],
   "source": [
    "random_ = random_generator()"
   ]
  },
  {
   "cell_type": "code",
   "execution_count": 70,
   "metadata": {},
   "outputs": [
    {
     "name": "stdout",
     "output_type": "stream",
     "text": [
      "0.5986404530184803\n"
     ]
    }
   ],
   "source": [
    "random_.random_number()"
   ]
  },
  {
   "cell_type": "code",
   "execution_count": null,
   "metadata": {},
   "outputs": [],
   "source": []
  }
 ],
 "metadata": {
  "kernelspec": {
   "display_name": "Python 3",
   "language": "python",
   "name": "python3"
  },
  "language_info": {
   "codemirror_mode": {
    "name": "ipython",
    "version": 3
   },
   "file_extension": ".py",
   "mimetype": "text/x-python",
   "name": "python",
   "nbconvert_exporter": "python",
   "pygments_lexer": "ipython3",
   "version": "3.8.5"
  }
 },
 "nbformat": 4,
 "nbformat_minor": 4
}
