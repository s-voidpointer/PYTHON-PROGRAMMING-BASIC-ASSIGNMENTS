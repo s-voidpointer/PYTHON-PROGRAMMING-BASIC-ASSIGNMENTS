{
 "cells": [
  {
   "cell_type": "markdown",
   "metadata": {},
   "source": [
    "# 1. Write a Python program to convert kilometers to miles."
   ]
  },
  {
   "cell_type": "code",
   "execution_count": 17,
   "metadata": {},
   "outputs": [],
   "source": [
    "class convert:\n",
    "    \n",
    "    def km_to_miles(self):\n",
    "        try:\n",
    "            km = float(input(\"Enter kilometers:\"))\n",
    "        except Exception as e:\n",
    "            print(e)\n",
    "            print(\"Error occured. Please enter valid number.\")\n",
    "        else:\n",
    "            miles = km * 0.621371\n",
    "            print(f\"{km}km = {miles}m\")"
   ]
  },
  {
   "cell_type": "code",
   "execution_count": 18,
   "metadata": {},
   "outputs": [],
   "source": [
    "c = convert()"
   ]
  },
  {
   "cell_type": "code",
   "execution_count": 19,
   "metadata": {},
   "outputs": [
    {
     "name": "stdout",
     "output_type": "stream",
     "text": [
      "Enter kilometers:10.3\n",
      "10.3km = 6.4001213m\n"
     ]
    }
   ],
   "source": [
    "c.km_to_miles()"
   ]
  },
  {
   "cell_type": "markdown",
   "metadata": {},
   "source": [
    "## 2. Write a Python program to convert Celsius to Fahrenheit."
   ]
  },
  {
   "cell_type": "code",
   "execution_count": 40,
   "metadata": {},
   "outputs": [],
   "source": [
    "class temperature_conversion:\n",
    "    \n",
    "    def celsius_to_fahrenheit(self):\n",
    "        try:\n",
    "            celsius = float(input(\"Enter temperature in celsius:\"))\n",
    "        except:\n",
    "            print(\"invalid input.\")\n",
    "        else:\n",
    "            fahrenheit = (1.8 * celsius) + 32\n",
    "            print(f\"{celsius}c  = {fahrenheit}f\")"
   ]
  },
  {
   "cell_type": "code",
   "execution_count": 41,
   "metadata": {},
   "outputs": [],
   "source": [
    "temp = temperature_conversion()"
   ]
  },
  {
   "cell_type": "code",
   "execution_count": 42,
   "metadata": {},
   "outputs": [
    {
     "name": "stdout",
     "output_type": "stream",
     "text": [
      "Enter temperature in celsius:27\n",
      "27.0c  = 80.6f\n"
     ]
    }
   ],
   "source": [
    "temp.celsius_to_fahrenheit()"
   ]
  },
  {
   "cell_type": "markdown",
   "metadata": {},
   "source": [
    "## 3. Write a Python program to display calendar."
   ]
  },
  {
   "cell_type": "code",
   "execution_count": 51,
   "metadata": {},
   "outputs": [
    {
     "name": "stdout",
     "output_type": "stream",
     "text": [
      "Enter the month(in 'mm' format):5\n",
      "Enter the year(in 'yy' format):21\n",
      "       May 21\n",
      "Mo Tu We Th Fr Sa Su\n",
      "                1  2\n",
      " 3  4  5  6  7  8  9\n",
      "10 11 12 13 14 15 16\n",
      "17 18 19 20 21 22 23\n",
      "24 25 26 27 28 29 30\n",
      "31\n",
      "\n"
     ]
    }
   ],
   "source": [
    "import calendar\n",
    "\n",
    "class calendar:\n",
    "    \n",
    "    try:\n",
    "        month = int(input(\"Enter the month(in 'mm' format):\"))\n",
    "        try:\n",
    "            year = int(input(\"Enter the year(in 'yy' format):\"))\n",
    "        except:\n",
    "            print(\"Please enter valid year.\")\n",
    "        \n",
    "    except:\n",
    "        print(\"Please enter valid month.\")\n",
    "        \n",
    "    else:\n",
    "        print(calendar.month(year,month))"
   ]
  },
  {
   "cell_type": "markdown",
   "metadata": {},
   "source": [
    "## 4. Write a Python program to solve quadratic equation."
   ]
  },
  {
   "cell_type": "code",
   "execution_count": 2,
   "metadata": {},
   "outputs": [
    {
     "name": "stdout",
     "output_type": "stream",
     "text": [
      "Enter the value of a:1\n",
      "Enter the value of b:10\n",
      "Enter the value of c:-24\n",
      " real and different roots \n",
      "2.0\n",
      "-12.0\n"
     ]
    }
   ],
   "source": [
    "import math \n",
    "  \n",
    "\n",
    "def equationroots(a, b, c): \n",
    "\n",
    "    d = b * b - 4 * a * c \n",
    "    sqrt_val = math.sqrt(abs(d)) \n",
    "\n",
    "    if d > 0: \n",
    "        print(\" real and different roots \") \n",
    "        print((-b + sqrt_val)/(2 * a)) \n",
    "        print((-b - sqrt_val)/(2 * a)) \n",
    "      \n",
    "    elif d == 0: \n",
    "        print(\" real and same roots\") \n",
    "        print(-b / (2 * a)) \n",
    "\n",
    "    else:\n",
    "        print(\"Complex Roots\") \n",
    "        print(- b / (2 * a), \" + i\", sqrt_val) \n",
    "        print(- b / (2 * a), \" - i\", sqrt_val) \n",
    "\n",
    "\n",
    "if __name__ == \"__main__\":\n",
    "    a = int(input(\"Enter the value of a:\"))\n",
    "    b = int(input(\"Enter the value of b:\"))\n",
    "    c = int(input('Enter the value of c:'))\n",
    "  \n",
    "    if a == 0: \n",
    "        print(\"Input correct quadratic equation\") \n",
    "  \n",
    "    else:\n",
    "        equationroots(a, b, c)"
   ]
  },
  {
   "cell_type": "markdown",
   "metadata": {},
   "source": [
    "## 5. Write a Python program to swap two variables without temp variable?"
   ]
  },
  {
   "cell_type": "code",
   "execution_count": 4,
   "metadata": {},
   "outputs": [],
   "source": [
    "class swapping:\n",
    "    \n",
    "    def swap_of_variable(self):\n",
    "        try:\n",
    "            self.a = input(\"Enter 1st variable:\")\n",
    "            self.b = input(\"Enter 2nd variable:\")\n",
    "            \n",
    "        except Exception as e:\n",
    "                print(e)\n",
    "            \n",
    "        else:\n",
    "                print(f\"Before swapping   a = {self.a},   b = {self.b}\")\n",
    "                self.a,self.b = self.b,self.a\n",
    "                print(f\"After swapping    a = {self.a},   b = {self.b}\")"
   ]
  },
  {
   "cell_type": "code",
   "execution_count": 5,
   "metadata": {},
   "outputs": [],
   "source": [
    "swap = swapping()"
   ]
  },
  {
   "cell_type": "code",
   "execution_count": null,
   "metadata": {},
   "outputs": [],
   "source": [
    "swap"
   ]
  }
 ],
 "metadata": {
  "kernelspec": {
   "display_name": "Python 3",
   "language": "python",
   "name": "python3"
  },
  "language_info": {
   "codemirror_mode": {
    "name": "ipython",
    "version": 3
   },
   "file_extension": ".py",
   "mimetype": "text/x-python",
   "name": "python",
   "nbconvert_exporter": "python",
   "pygments_lexer": "ipython3",
   "version": "3.8.5"
  }
 },
 "nbformat": 4,
 "nbformat_minor": 4
}
