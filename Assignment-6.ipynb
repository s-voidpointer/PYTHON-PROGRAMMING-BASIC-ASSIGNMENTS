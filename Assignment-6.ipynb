{
 "cells": [
  {
   "cell_type": "markdown",
   "metadata": {},
   "source": [
    "## 1. Write a Python Program to Display Fibonacci Sequence Using Recursion?"
   ]
  },
  {
   "cell_type": "code",
   "execution_count": 11,
   "metadata": {},
   "outputs": [
    {
     "name": "stdout",
     "output_type": "stream",
     "text": [
      "Enter a POSITIVE integer:10\n",
      "0 1 1 2 3 5 8 13 21 34 "
     ]
    }
   ],
   "source": [
    "def fibonacci_by_recursion(n):\n",
    "    if(n<=1):\n",
    "        return n\n",
    "    else:\n",
    "        return(fibonacci_by_recursion(n-1) + fibonacci_by_recursion(n-2))\n",
    "    \n",
    "if __name__ == \"__main__\":\n",
    "    try:\n",
    "        n = int(input(\"Enter a POSITIVE integer:\"))\n",
    "    \n",
    "    except Exception as e:\n",
    "        print(e)\n",
    "        \n",
    "    else:\n",
    "        for i in range(n):\n",
    "            print(fibonacci_by_recursion(i),end = \" \")\n",
    "    \n",
    "    "
   ]
  },
  {
   "cell_type": "markdown",
   "metadata": {},
   "source": [
    "## 2. Write a Python Program to Find Factorial of Number Using Recursion?"
   ]
  },
  {
   "cell_type": "code",
   "execution_count": 6,
   "metadata": {},
   "outputs": [
    {
     "name": "stdout",
     "output_type": "stream",
     "text": [
      "Enter a Positive integer:7\n",
      "5040\n"
     ]
    }
   ],
   "source": [
    "def factorial_by_recursion(n):\n",
    "        if(n<0):\n",
    "            print(\"Input must be an POSITIVE integer\")\n",
    "            \n",
    "        else:\n",
    "            if(n == 0):\n",
    "                return(1)\n",
    "            else:\n",
    "                return(n * factorial_by_recursion(n-1))\n",
    "            \n",
    "if __name__ == \"__main__\":\n",
    "    try:\n",
    "        n = int(input(\"Enter a Positive integer:\"))\n",
    "    \n",
    "    except Exception as e:\n",
    "        print(e)\n",
    "    \n",
    "    else:\n",
    "        print(factorial_by_recursion(n))"
   ]
  },
  {
   "cell_type": "markdown",
   "metadata": {},
   "source": [
    "## 3. Write a Python Program to calculate your Body Mass Index?"
   ]
  },
  {
   "cell_type": "code",
   "execution_count": 18,
   "metadata": {},
   "outputs": [
    {
     "name": "stdout",
     "output_type": "stream",
     "text": [
      "Enter your weight(in Kilograms):-9\n",
      "Enter your height(in metre)1.64\n",
      "WEIGHT must be greater than zero.\n"
     ]
    }
   ],
   "source": [
    "def calculate_BMI(weight,height):\n",
    "    return(weight/(height * height))\n",
    "\n",
    "if __name__ == \"__main__\":\n",
    "    try:\n",
    "        weight = float(input(\"Enter your weight(in Kilograms):\"))\n",
    "        height = float(input(\"Enter your height(in metre)\"))\n",
    "        \n",
    "    except Exception as e:\n",
    "        print(e)\n",
    "        \n",
    "    else:\n",
    "        if(weight<=0):\n",
    "            print(\"WEIGHT must be greater than zero.\")\n",
    "        elif(height<=0):\n",
    "            print(\"HEIGHT must be greater than zero.\")\n",
    "        else:\n",
    "            print(\"The BMI is:{0:.2f}\".format(calculate_BMI(weight,height)))"
   ]
  },
  {
   "cell_type": "markdown",
   "metadata": {},
   "source": [
    "## 4. Write a Python Program to calculate the natural logarithm of any number?"
   ]
  },
  {
   "cell_type": "code",
   "execution_count": 27,
   "metadata": {},
   "outputs": [
    {
     "name": "stdout",
     "output_type": "stream",
     "text": [
      "Enter a positive number:10\n",
      "Natural log value of 10.0 is 1.0\n"
     ]
    }
   ],
   "source": [
    "import math\n",
    "def nat_log(n):\n",
    "    try:\n",
    "        return(math.log10(n))\n",
    "    except Exception as e:\n",
    "        print(e)\n",
    "\n",
    "if __name__ == \"__main__\":\n",
    "    try:\n",
    "        num = float(input(\"Enter a positive number:\"))\n",
    "        \n",
    "    except Exception as e:\n",
    "        print(e)\n",
    "        \n",
    "    else:\n",
    "        print(f\"Natural log value of {num} is {nat_log(num)}\")"
   ]
  },
  {
   "cell_type": "markdown",
   "metadata": {},
   "source": [
    "## 5. Write a Python Program for cube sum of first n natural numbers?"
   ]
  },
  {
   "cell_type": "code",
   "execution_count": 11,
   "metadata": {},
   "outputs": [
    {
     "name": "stdout",
     "output_type": "stream",
     "text": [
      "Enter the value:10\n",
      "The cube sum of first 10 is 3025.0\n"
     ]
    }
   ],
   "source": [
    "def cube_sum(n):\n",
    "    n = (n*(n+1)/2)**2\n",
    "    return(n)\n",
    "\n",
    "if __name__ == \"__main__\":\n",
    "    try:\n",
    "        num = int(input(\"Enter the value:\"))\n",
    "        \n",
    "    except Exception as e:\n",
    "        print(e)\n",
    "        \n",
    "    else:\n",
    "        if(num<0):\n",
    "            print(\"Input must be a POSITIVE integer.\")\n",
    "        else:\n",
    "            print(f\"The cube sum of first {num} is {cube_sum(num)}\")"
   ]
  }
 ],
 "metadata": {
  "kernelspec": {
   "display_name": "Python 3",
   "language": "python",
   "name": "python3"
  },
  "language_info": {
   "codemirror_mode": {
    "name": "ipython",
    "version": 3
   },
   "file_extension": ".py",
   "mimetype": "text/x-python",
   "name": "python",
   "nbconvert_exporter": "python",
   "pygments_lexer": "ipython3",
   "version": "3.8.5"
  }
 },
 "nbformat": 4,
 "nbformat_minor": 4
}
