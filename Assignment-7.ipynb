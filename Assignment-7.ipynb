{
 "cells": [
  {
   "cell_type": "markdown",
   "metadata": {},
   "source": [
    "## 1. Write a Python Program to find sum of array?"
   ]
  },
  {
   "cell_type": "code",
   "execution_count": 18,
   "metadata": {},
   "outputs": [
    {
     "name": "stdout",
     "output_type": "stream",
     "text": [
      "Enter the integers separated by spaces:1 2 3 4 5\n",
      "The sum of array is:15\n"
     ]
    }
   ],
   "source": [
    "def array_sum(arr):\n",
    "    try:\n",
    "        return(sum(arr))\n",
    "    \n",
    "    except Exception as e:\n",
    "        print(e)\n",
    "\n",
    "if __name__ == \"__main__\":\n",
    "        arr = map(int,input(\"Enter the integers separated by spaces:\").split())\n",
    "        print(f\"The sum of array is:{array_sum(arr)}\")"
   ]
  },
  {
   "cell_type": "markdown",
   "metadata": {},
   "source": [
    "## 2. Write a Python Program to find largest element in an array?"
   ]
  },
  {
   "cell_type": "code",
   "execution_count": 17,
   "metadata": {},
   "outputs": [
    {
     "name": "stdout",
     "output_type": "stream",
     "text": [
      "Enter the integers separated by spaces:1 2 3 4 5\n",
      "The largest integer is:5\n"
     ]
    }
   ],
   "source": [
    "def largest_element(arr):\n",
    "    try:\n",
    "        return(max(arr))\n",
    "    except Exception as e:\n",
    "        print(e)\n",
    "\n",
    "if __name__ == \"__main__\":\n",
    "    arr = map(int,input(\"Enter the integers separated by spaces:\").split())\n",
    "    print(f\"The largest integer is:{largest_element(arr)}\")"
   ]
  },
  {
   "cell_type": "markdown",
   "metadata": {},
   "source": [
    "## 3. Write a Python Program for array rotation?"
   ]
  },
  {
   "cell_type": "code",
   "execution_count": 29,
   "metadata": {},
   "outputs": [
    {
     "name": "stdout",
     "output_type": "stream",
     "text": [
      "Enter the values (separeated by spaces):1 2 3 4 5\n",
      "Enter how many places you want to rotate the array:3\n",
      "After rotating the array 3 times to the left:[4, 5, 1, 2, 3]\n"
     ]
    }
   ],
   "source": [
    "def rotate_Array(arr, n, d):\n",
    "    temp = []\n",
    "    i = 0\n",
    "    while (i < d):\n",
    "        temp.append(arr[i])\n",
    "        i = i + 1\n",
    "    i = 0\n",
    "    while (d < n):\n",
    "        arr[i] = arr[d]\n",
    "        i = i + 1\n",
    "        d = d + 1\n",
    "    arr[:] = arr[: i] + temp\n",
    "    return arr\n",
    "\n",
    "if __name__ == \"__main__\":\n",
    "    arr = list(map(int,input(\"Enter the values (separeated by spaces):\").split()))\n",
    "    try:\n",
    "        d = int(input(\"Enter how many places you want to rotate the array:\"))\n",
    "    except Exception as e:\n",
    "        print(e)\n",
    "    else:\n",
    "        print(f\"After rotating the array {d} times to the left:{rotate_Array(arr,len(arr),d)}\")\n",
    "    "
   ]
  },
  {
   "cell_type": "markdown",
   "metadata": {},
   "source": [
    "## 4. Write a Python Program to Split the array and add the first part to the end?"
   ]
  },
  {
   "cell_type": "code",
   "execution_count": 33,
   "metadata": {},
   "outputs": [
    {
     "name": "stdout",
     "output_type": "stream",
     "text": [
      "Enter the values (separeated by spaces):1 2 3 4 5 6 7\n",
      "Modified Array:[4, 5, 6, 7, 1, 2, 3]\n"
     ]
    }
   ],
   "source": [
    "def split_Array(arr,n):\n",
    "    mid = n//2\n",
    "    l_arr = arr[0:mid]\n",
    "    r_arr = arr[mid:n+1]\n",
    "    arr = r_arr + l_arr\n",
    "    return(arr)\n",
    "\n",
    "if __name__ == \"__main__\":\n",
    "    arr = list(map(int,input(\"Enter the values (separeated by spaces):\").split()))\n",
    "    print(f\"Modified Array:{split_Array(arr,len(arr))}\")\n",
    "    "
   ]
  },
  {
   "cell_type": "markdown",
   "metadata": {},
   "source": [
    "## 5. Write a Python Program to check if given array is Monotonic?"
   ]
  },
  {
   "cell_type": "code",
   "execution_count": 37,
   "metadata": {},
   "outputs": [
    {
     "name": "stdout",
     "output_type": "stream",
     "text": [
      "Enter the values (separeated by spaces):3 65 1 7 2\n",
      "False\n"
     ]
    }
   ],
   "source": [
    "def check_monotonic(arr):\n",
    "    try:\n",
    "        if(arr[0]<arr[1]):\n",
    "            for i in range(1,len(arr)-1):\n",
    "                if(arr[i]>arr[i+1]):\n",
    "                    return False\n",
    "            return True\n",
    "    \n",
    "        if(arr[1]<arr[0]):\n",
    "            for i in range(1,len(arr)-1):\n",
    "                if(arr[i+1]>arr[i]):\n",
    "                    return False\n",
    "            return True\n",
    "        \n",
    "    except Exception as e:\n",
    "        return(e)\n",
    "    \n",
    "if __name__ == \"__main__\":\n",
    "    arr = list(map(int,input(\"Enter the values (separeated by spaces):\").split()))\n",
    "    print(check_monotonic(arr))"
   ]
  },
  {
   "cell_type": "code",
   "execution_count": null,
   "metadata": {},
   "outputs": [],
   "source": []
  }
 ],
 "metadata": {
  "kernelspec": {
   "display_name": "Python 3",
   "language": "python",
   "name": "python3"
  },
  "language_info": {
   "codemirror_mode": {
    "name": "ipython",
    "version": 3
   },
   "file_extension": ".py",
   "mimetype": "text/x-python",
   "name": "python",
   "nbconvert_exporter": "python",
   "pygments_lexer": "ipython3",
   "version": "3.8.5"
  }
 },
 "nbformat": 4,
 "nbformat_minor": 4
}
