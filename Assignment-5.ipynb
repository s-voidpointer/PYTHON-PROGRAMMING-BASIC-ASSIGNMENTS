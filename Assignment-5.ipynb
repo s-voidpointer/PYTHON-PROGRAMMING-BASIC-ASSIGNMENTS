{
 "cells": [
  {
   "cell_type": "markdown",
   "metadata": {},
   "source": [
    "## 1. Write a Python Program to Find LCM?"
   ]
  },
  {
   "cell_type": "code",
   "execution_count": 26,
   "metadata": {},
   "outputs": [],
   "source": [
    "def find_lcm(x, y):\n",
    "    try:\n",
    "        x,y = map(int,input(\"Enter two number seperated by space:\").split())\n",
    "        \n",
    "    except Exception as e:\n",
    "        print(e)\n",
    "    \n",
    "    else:\n",
    "        if x > y:\n",
    "            maximum = x\n",
    "        else:\n",
    "            maximum = y\n",
    "\n",
    "        while(True):\n",
    "            if((maximum % x == 0) and (maximum % y == 0)):\n",
    "                lcm = maximum\n",
    "                break\n",
    "            maximum = maximum + 1\n",
    "\n",
    "        return lcm"
   ]
  },
  {
   "cell_type": "code",
   "execution_count": 27,
   "metadata": {},
   "outputs": [
    {
     "name": "stdout",
     "output_type": "stream",
     "text": [
      "Enter two number seperated by space:12 10\n"
     ]
    },
    {
     "data": {
      "text/plain": [
       "60"
      ]
     },
     "execution_count": 27,
     "metadata": {},
     "output_type": "execute_result"
    }
   ],
   "source": [
    "find_lcm(12,10)"
   ]
  },
  {
   "cell_type": "markdown",
   "metadata": {},
   "source": [
    "## 2. Write a Python Program to Find HCF?"
   ]
  },
  {
   "cell_type": "code",
   "execution_count": 24,
   "metadata": {},
   "outputs": [],
   "source": [
    "def find_hcf():\n",
    "    try:\n",
    "        x,y = map(int,input(\"Enter two number seperated by space:\").split())\n",
    "    \n",
    "    except Exception as e:\n",
    "        print(e)\n",
    "    \n",
    "    else:\n",
    "        print(x,y)\n",
    "        while(y):\n",
    "            x,y = y, x % y\n",
    "        return x\n",
    "        "
   ]
  },
  {
   "cell_type": "code",
   "execution_count": 25,
   "metadata": {},
   "outputs": [
    {
     "name": "stdout",
     "output_type": "stream",
     "text": [
      "Enter two number seperated by space:12 24\n",
      "12 24\n"
     ]
    },
    {
     "data": {
      "text/plain": [
       "12"
      ]
     },
     "execution_count": 25,
     "metadata": {},
     "output_type": "execute_result"
    }
   ],
   "source": [
    "find_hcf()"
   ]
  },
  {
   "cell_type": "markdown",
   "metadata": {},
   "source": [
    "## 3. Write a Python Program to Convert Decimal to Binary, Octal and Hexadecimal?"
   ]
  },
  {
   "cell_type": "code",
   "execution_count": 31,
   "metadata": {},
   "outputs": [],
   "source": [
    "def convert_decimal():\n",
    "    \n",
    "    try:\n",
    "        dec = int(input(\"Enter the decimal number:\"))\n",
    "        \n",
    "    except Exception as e:\n",
    "        print(e)\n",
    "        \n",
    "    else:\n",
    "        print(f\"The binary value of {dec} is: {bin(dec)}\")\n",
    "        print(f\"The Octal value of {dec} is: {oct(dec)}\")\n",
    "        print(f\"The Hexa-decimal value of {dec} is: {hex(dec)}\")"
   ]
  },
  {
   "cell_type": "code",
   "execution_count": 32,
   "metadata": {},
   "outputs": [
    {
     "name": "stdout",
     "output_type": "stream",
     "text": [
      "Enter the decimal number:10\n",
      "The binary value of 10 is: 0b1010\n",
      "The Octal value of 10 is: 0o12\n",
      "The Hexa-decimal value of 10 is: 0xa\n"
     ]
    }
   ],
   "source": [
    "convert_decimal()"
   ]
  },
  {
   "cell_type": "markdown",
   "metadata": {},
   "source": [
    "## 4. Write a Python Program To Find ASCII value of a character?"
   ]
  },
  {
   "cell_type": "code",
   "execution_count": 43,
   "metadata": {},
   "outputs": [],
   "source": [
    "def find_ASCII_character():\n",
    "    try:\n",
    "        char =input(\"Enter a character:\")\n",
    "        print(f\"The ASCII value of {char} is: {ord(char)}\")\n",
    "        \n",
    "    except Exception as e:\n",
    "        print(e)\n",
    "        "
   ]
  },
  {
   "cell_type": "code",
   "execution_count": 44,
   "metadata": {},
   "outputs": [
    {
     "name": "stdout",
     "output_type": "stream",
     "text": [
      "Enter a character:8\n",
      "The ASCII value of 8 is: 56\n"
     ]
    }
   ],
   "source": [
    "find_ASCII_character()"
   ]
  },
  {
   "cell_type": "markdown",
   "metadata": {},
   "source": [
    "## 5. Write a Python Program to Make a Simple Calculator with 4 basic mathematical operations?"
   ]
  },
  {
   "cell_type": "code",
   "execution_count": 45,
   "metadata": {},
   "outputs": [],
   "source": [
    "def calculator():\n",
    "    print(\"Press\\n1.Addition\\n2.Subtraction\\n3.Multiplication\\n4.Division.\")\n",
    "    func = int(input())\n",
    "    if(func>=1 and func<=4):\n",
    "        try:\n",
    "            a,b = map(int,input(\"Enter two number separated by space:\").split())\n",
    "            \n",
    "        except Exception as e:\n",
    "            print(e)\n",
    "            \n",
    "        else:\n",
    "            if(func == 1):\n",
    "                print(f\"{a} + {b} = {a+b}\")\n",
    "            elif(func == 2):\n",
    "                print(f\"{a} - {b} = {a-b}\")\n",
    "            elif(func == 3):\n",
    "                print(f\"{a} * {b} = {a*b}\")\n",
    "            elif(func == 4):\n",
    "                print(f\"{a} / {b} = {a/b}\")\n",
    "    \n",
    "    else:\n",
    "        print(\"Enter correct input.\")"
   ]
  },
  {
   "cell_type": "code",
   "execution_count": 46,
   "metadata": {},
   "outputs": [
    {
     "name": "stdout",
     "output_type": "stream",
     "text": [
      "Press\n",
      "1.Addition\n",
      "2.subtraction\n",
      "3.Multiplication\n",
      "4.division.\n",
      "1\n",
      "Enter two number separated by space:3 8\n",
      "3 + 8 = 11\n"
     ]
    }
   ],
   "source": [
    "calculator()"
   ]
  },
  {
   "cell_type": "code",
   "execution_count": null,
   "metadata": {},
   "outputs": [],
   "source": []
  }
 ],
 "metadata": {
  "kernelspec": {
   "display_name": "Python 3",
   "language": "python",
   "name": "python3"
  },
  "language_info": {
   "codemirror_mode": {
    "name": "ipython",
    "version": 3
   },
   "file_extension": ".py",
   "mimetype": "text/x-python",
   "name": "python",
   "nbconvert_exporter": "python",
   "pygments_lexer": "ipython3",
   "version": "3.8.5"
  }
 },
 "nbformat": 4,
 "nbformat_minor": 4
}
