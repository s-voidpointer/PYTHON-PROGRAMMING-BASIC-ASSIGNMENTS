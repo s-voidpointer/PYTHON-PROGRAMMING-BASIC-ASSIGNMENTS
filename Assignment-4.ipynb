{
 "cells": [
  {
   "cell_type": "markdown",
   "metadata": {},
   "source": [
    "## 1. Write a Python Program to Find the Factorial of a Number?"
   ]
  },
  {
   "cell_type": "code",
   "execution_count": 12,
   "metadata": {},
   "outputs": [],
   "source": [
    "def factorial():\n",
    "    try:\n",
    "        num = int(input(\"Enter the number:\"))\n",
    "    except Exception as e:\n",
    "        print(e)\n",
    "        \n",
    "    else:\n",
    "        if(num < 0):\n",
    "            print(\"Number cannot be negative!!!\")\n",
    "        else:\n",
    "            ans = 1\n",
    "            for i in range(num,0,-1):\n",
    "                ans = ans * i\n",
    "            print(ans)"
   ]
  },
  {
   "cell_type": "code",
   "execution_count": 13,
   "metadata": {},
   "outputs": [
    {
     "name": "stdout",
     "output_type": "stream",
     "text": [
      "Enter the number:-9\n",
      "Number cannot be negative!!!\n"
     ]
    }
   ],
   "source": [
    "factorial()"
   ]
  },
  {
   "cell_type": "markdown",
   "metadata": {},
   "source": [
    "## 2. Write a Python Program to Display the multiplication Table?"
   ]
  },
  {
   "cell_type": "code",
   "execution_count": 20,
   "metadata": {},
   "outputs": [],
   "source": [
    "def mul_table():\n",
    "    try:\n",
    "        num = int(input(\"Enter the number:\"))\n",
    "    except Exception as e:\n",
    "        print(e)\n",
    "    else:\n",
    "        for i in range(1,11):\n",
    "            print(f\"{num} X {i} = {num*i}\")"
   ]
  },
  {
   "cell_type": "code",
   "execution_count": 21,
   "metadata": {},
   "outputs": [
    {
     "name": "stdout",
     "output_type": "stream",
     "text": [
      "Enter the number:9\n",
      "9 X 1 = 9\n",
      "9 X 2 = 18\n",
      "9 X 3 = 27\n",
      "9 X 4 = 36\n",
      "9 X 5 = 45\n",
      "9 X 6 = 54\n",
      "9 X 7 = 63\n",
      "9 X 8 = 72\n",
      "9 X 9 = 81\n",
      "9 X 10 = 90\n"
     ]
    }
   ],
   "source": [
    "mul_table()"
   ]
  },
  {
   "cell_type": "markdown",
   "metadata": {},
   "source": [
    "## 3. Write a Python Program to Print the Fibonacci sequence?"
   ]
  },
  {
   "cell_type": "code",
   "execution_count": 26,
   "metadata": {},
   "outputs": [],
   "source": [
    "def fibonacci():\n",
    "    try:\n",
    "        num = int(input(\"Enter the number:\"))\n",
    "    except Exception as e:\n",
    "        print(e)\n",
    "        \n",
    "    else:\n",
    "        a,b = 0,1\n",
    "        for i in range(num):\n",
    "            print(a,end = \" \")\n",
    "            a,b = b,a+b"
   ]
  },
  {
   "cell_type": "code",
   "execution_count": 27,
   "metadata": {},
   "outputs": [
    {
     "name": "stdout",
     "output_type": "stream",
     "text": [
      "Enter the number:10\n",
      "0 1 1 2 3 5 8 13 21 34 "
     ]
    }
   ],
   "source": [
    "fibonacci()"
   ]
  },
  {
   "cell_type": "markdown",
   "metadata": {},
   "source": [
    "## 4. Write a Python Program to Check Armstrong Number?"
   ]
  },
  {
   "cell_type": "code",
   "execution_count": 63,
   "metadata": {},
   "outputs": [],
   "source": [
    "def check_armstrong():\n",
    "    try:\n",
    "        num = abs(int(input(\"Enter a number:\")))\n",
    "    except Exception as e:\n",
    "        print(e)\n",
    "        \n",
    "    else:\n",
    "        ans = 0\n",
    "        num_cpy = num\n",
    "        while(num_cpy > 0):\n",
    "            rem = num_cpy % 10\n",
    "            ans = ans + (rem*rem*rem)\n",
    "            num_cpy = num_cpy//10\n",
    "        print(num == ans)"
   ]
  },
  {
   "cell_type": "code",
   "execution_count": 64,
   "metadata": {},
   "outputs": [
    {
     "name": "stdout",
     "output_type": "stream",
     "text": [
      "Enter a number:-153\n",
      "True\n"
     ]
    }
   ],
   "source": [
    "check_armstrong()"
   ]
  },
  {
   "cell_type": "markdown",
   "metadata": {},
   "source": [
    "## 5. Write a Python Program to Find Armstrong Number in an Interval?"
   ]
  },
  {
   "cell_type": "code",
   "execution_count": 67,
   "metadata": {},
   "outputs": [],
   "source": [
    "def check_armstrong_interval():\n",
    "    try:\n",
    "        start = int(input(\"Enter starting interval:\"))\n",
    "        end = int(input(\"Enter ending interval:\"))\n",
    "    except Exception as e:\n",
    "        print(e)\n",
    "        \n",
    "    else:\n",
    "        for i in range(start,end+1):\n",
    "            ans = 0\n",
    "            num_cpy = i\n",
    "            while(num_cpy > 0):\n",
    "                rem = num_cpy % 10\n",
    "                ans = ans + (rem*rem*rem)\n",
    "                num_cpy = num_cpy//10\n",
    "            if(i == ans):\n",
    "                print(ans)"
   ]
  },
  {
   "cell_type": "code",
   "execution_count": 68,
   "metadata": {},
   "outputs": [
    {
     "name": "stdout",
     "output_type": "stream",
     "text": [
      "Enter starting interval:0\n",
      "Enter ending interval:407\n",
      "0\n",
      "1\n",
      "153\n",
      "370\n",
      "371\n",
      "407\n"
     ]
    }
   ],
   "source": [
    "check_armstrong_interval()"
   ]
  },
  {
   "cell_type": "markdown",
   "metadata": {},
   "source": [
    "## 6. Write a Python Program to Find the Sum of Natural Numbers?"
   ]
  },
  {
   "cell_type": "code",
   "execution_count": 69,
   "metadata": {},
   "outputs": [],
   "source": [
    "def sum_of_natural_number():\n",
    "    try:\n",
    "        num = int(input(\"Enter the number:\"))\n",
    "    except Exception as e:\n",
    "        print(e)\n",
    "    \n",
    "    else:\n",
    "        sum_natural = (num * (num+1))/2\n",
    "        print(f\"The sum of {num} natural number is:{sum_natural}\")"
   ]
  },
  {
   "cell_type": "code",
   "execution_count": 70,
   "metadata": {},
   "outputs": [
    {
     "name": "stdout",
     "output_type": "stream",
     "text": [
      "Enter the number:10\n",
      "The sum of 10 natural number is:55.0\n"
     ]
    }
   ],
   "source": [
    "sum_of_natural_number()"
   ]
  },
  {
   "cell_type": "code",
   "execution_count": null,
   "metadata": {},
   "outputs": [],
   "source": []
  }
 ],
 "metadata": {
  "kernelspec": {
   "display_name": "Python 3",
   "language": "python",
   "name": "python3"
  },
  "language_info": {
   "codemirror_mode": {
    "name": "ipython",
    "version": 3
   },
   "file_extension": ".py",
   "mimetype": "text/x-python",
   "name": "python",
   "nbconvert_exporter": "python",
   "pygments_lexer": "ipython3",
   "version": "3.8.5"
  }
 },
 "nbformat": 4,
 "nbformat_minor": 4
}
